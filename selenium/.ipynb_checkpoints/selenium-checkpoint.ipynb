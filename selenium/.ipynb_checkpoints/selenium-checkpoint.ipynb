{
 "cells": [
  {
   "cell_type": "markdown",
   "metadata": {},
   "source": [
    "# Selenium\n",
    "\n",
    "### Here we use selenium alongside geckodriver to create a bot browser instance so we can circumvent some javascript events"
   ]
  },
  {
   "cell_type": "code",
   "execution_count": null,
   "metadata": {},
   "outputs": [],
   "source": [
    "!pip install selenium"
   ]
  },
  {
   "cell_type": "code",
   "execution_count": 1,
   "metadata": {},
   "outputs": [],
   "source": [
    "from selenium import webdriver\n",
    "from bs4 import BeautifulSoup as BS\n",
    "import pandas as pd\n",
    "pd.set_option('display.max_columns', None)"
   ]
  },
  {
   "cell_type": "markdown",
   "metadata": {},
   "source": [
    "### Creating a webdriver"
   ]
  },
  {
   "cell_type": "code",
   "execution_count": 2,
   "metadata": {},
   "outputs": [],
   "source": [
    "driver = webdriver.Firefox(executable_path='./geckodriver')"
   ]
  },
  {
   "cell_type": "markdown",
   "metadata": {},
   "source": [
    "Creating a Selenium Firefox webdriver using geckodriver results in a real browser window that we can control with python\n",
    "\n",
    "\n",
    "![example-img](../src/selenium-webdriver.png)"
   ]
  },
  {
   "cell_type": "markdown",
   "metadata": {},
   "source": [
    "Using this driver, we can go to any page we'd like."
   ]
  },
  {
   "cell_type": "code",
   "execution_count": 26,
   "metadata": {},
   "outputs": [],
   "source": [
    "url = 'https://www.woolworths.co.za'"
   ]
  },
  {
   "cell_type": "code",
   "execution_count": 28,
   "metadata": {},
   "outputs": [],
   "source": [
    "driver.get(url)"
   ]
  },
  {
   "cell_type": "markdown",
   "metadata": {},
   "source": [
    "![example-img](../src/selenium-url.png)"
   ]
  },
  {
   "cell_type": "markdown",
   "metadata": {},
   "source": [
    "### Why Selenium?"
   ]
  },
  {
   "cell_type": "markdown",
   "metadata": {},
   "source": [
    "I think it's best to learn by example, so let's look at a simple one!\n",
    "\n",
    "Say we want to scrape the nutrional information about a list of Woolworths products. To develop the flow, we start with a single product."
   ]
  },
  {
   "cell_type": "code",
   "execution_count": 29,
   "metadata": {},
   "outputs": [],
   "source": [
    "product_id = 8000500037874\n",
    "product_url = 'https://www.woolworths.co.za/cat?Ntt={}&Dy=1'.format(product_id)\n",
    "driver.get(product_url)"
   ]
  },
  {
   "cell_type": "code",
   "execution_count": 32,
   "metadata": {},
   "outputs": [],
   "source": [
    "soup = BS(driver.page_source, 'lxml')"
   ]
  },
  {
   "cell_type": "markdown",
   "metadata": {},
   "source": [
    "### Inspect the html to see which element or class name can we use to find the table"
   ]
  },
  {
   "cell_type": "code",
   "execution_count": 35,
   "metadata": {},
   "outputs": [],
   "source": [
    "soup.find('table')"
   ]
  },
  {
   "cell_type": "markdown",
   "metadata": {},
   "source": [
    "### Nothing found since the table is hidden until an event occurs"
   ]
  },
  {
   "cell_type": "code",
   "execution_count": 37,
   "metadata": {},
   "outputs": [
    {
     "data": {
      "text/plain": [
       "[<selenium.webdriver.firefox.webelement.FirefoxWebElement (session=\"7ae68c35-30cb-4bba-a653-4755614afbea\", element=\"7273feb7-aaa9-41e8-91d2-961be6b8f00a\")>,\n",
       " <selenium.webdriver.firefox.webelement.FirefoxWebElement (session=\"7ae68c35-30cb-4bba-a653-4755614afbea\", element=\"d8c73d68-ee43-498b-82c8-1cb7ef0df00e\")>,\n",
       " <selenium.webdriver.firefox.webelement.FirefoxWebElement (session=\"7ae68c35-30cb-4bba-a653-4755614afbea\", element=\"89d3787c-afc3-408c-9bb2-d55a5efe54b8\")>,\n",
       " <selenium.webdriver.firefox.webelement.FirefoxWebElement (session=\"7ae68c35-30cb-4bba-a653-4755614afbea\", element=\"1e3c34a9-309b-4d51-b78e-f6b53ea8cfd3\")>,\n",
       " <selenium.webdriver.firefox.webelement.FirefoxWebElement (session=\"7ae68c35-30cb-4bba-a653-4755614afbea\", element=\"84507d68-a57b-4157-b6cb-3a22d49971a3\")>]"
      ]
     },
     "execution_count": 37,
     "metadata": {},
     "output_type": "execute_result"
    }
   ],
   "source": [
    "clickable_list = driver.find_elements_by_class_name('accordion__toggle--chrome')\n",
    "clickable_list"
   ]
  },
  {
   "cell_type": "code",
   "execution_count": 38,
   "metadata": {},
   "outputs": [
    {
     "data": {
      "text/plain": [
       "selenium.webdriver.firefox.webelement.FirefoxWebElement"
      ]
     },
     "execution_count": 38,
     "metadata": {},
     "output_type": "execute_result"
    }
   ],
   "source": [
    "type(clickable_list[0])"
   ]
  },
  {
   "cell_type": "code",
   "execution_count": 42,
   "metadata": {},
   "outputs": [
    {
     "data": {
      "text/plain": [
       "['__class__',\n",
       " '__delattr__',\n",
       " '__dict__',\n",
       " '__dir__',\n",
       " '__doc__',\n",
       " '__eq__',\n",
       " '__format__',\n",
       " '__ge__',\n",
       " '__getattribute__',\n",
       " '__gt__',\n",
       " '__hash__',\n",
       " '__init__',\n",
       " '__init_subclass__',\n",
       " '__le__',\n",
       " '__lt__',\n",
       " '__module__',\n",
       " '__ne__',\n",
       " '__new__',\n",
       " '__reduce__',\n",
       " '__reduce_ex__',\n",
       " '__repr__',\n",
       " '__setattr__',\n",
       " '__sizeof__',\n",
       " '__str__',\n",
       " '__subclasshook__',\n",
       " '__weakref__',\n",
       " '_execute',\n",
       " '_id',\n",
       " '_parent',\n",
       " '_upload',\n",
       " '_w3c',\n",
       " 'anonymous_children',\n",
       " 'clear',\n",
       " 'click',\n",
       " 'find_anonymous_element_by_attribute',\n",
       " 'find_element',\n",
       " 'find_element_by_class_name',\n",
       " 'find_element_by_css_selector',\n",
       " 'find_element_by_id',\n",
       " 'find_element_by_link_text',\n",
       " 'find_element_by_name',\n",
       " 'find_element_by_partial_link_text',\n",
       " 'find_element_by_tag_name',\n",
       " 'find_element_by_xpath',\n",
       " 'find_elements',\n",
       " 'find_elements_by_class_name',\n",
       " 'find_elements_by_css_selector',\n",
       " 'find_elements_by_id',\n",
       " 'find_elements_by_link_text',\n",
       " 'find_elements_by_name',\n",
       " 'find_elements_by_partial_link_text',\n",
       " 'find_elements_by_tag_name',\n",
       " 'find_elements_by_xpath',\n",
       " 'get_attribute',\n",
       " 'get_property',\n",
       " 'id',\n",
       " 'is_displayed',\n",
       " 'is_enabled',\n",
       " 'is_selected',\n",
       " 'location',\n",
       " 'location_once_scrolled_into_view',\n",
       " 'parent',\n",
       " 'rect',\n",
       " 'screenshot',\n",
       " 'screenshot_as_base64',\n",
       " 'screenshot_as_png',\n",
       " 'send_keys',\n",
       " 'size',\n",
       " 'submit',\n",
       " 'tag_name',\n",
       " 'text',\n",
       " 'value_of_css_property']"
      ]
     },
     "execution_count": 42,
     "metadata": {},
     "output_type": "execute_result"
    }
   ],
   "source": [
    "dir(clickable_list[0])"
   ]
  },
  {
   "cell_type": "code",
   "execution_count": 47,
   "metadata": {},
   "outputs": [
    {
     "data": {
      "text/plain": [
       "'DETAILS'"
      ]
     },
     "execution_count": 47,
     "metadata": {},
     "output_type": "execute_result"
    }
   ],
   "source": [
    "clickable_list[0].text"
   ]
  },
  {
   "cell_type": "code",
   "execution_count": 55,
   "metadata": {},
   "outputs": [],
   "source": [
    "for clickable in clickable_list:\n",
    "    if clickable.text.lower() == 'nutritional information':\n",
    "        clickable.click()"
   ]
  },
  {
   "cell_type": "markdown",
   "metadata": {},
   "source": [
    "### Reload soup after click!"
   ]
  },
  {
   "cell_type": "code",
   "execution_count": 57,
   "metadata": {},
   "outputs": [],
   "source": [
    "soup = BS(driver.page_source, 'lxml')"
   ]
  },
  {
   "cell_type": "code",
   "execution_count": 58,
   "metadata": {},
   "outputs": [
    {
     "data": {
      "text/plain": [
       "<table cellpadding=\"0\" cellspacing=\"0\" class=\"table table-scroll__table table--zebra table--nutrition\"><thead class=\"table__head\"><tr class=\"table-scroll__row\"><th class=\"pdp-desc-font\">Description</th><th class=\"pdp-desc-font\">Per<br/>100g/ml</th><th class=\"pdp-desc-font\">Per<br/>Serving</th><th class=\"pdp-desc-font\">Measurement</th><th class=\"pdp-desc-font\">% NRV<br/> per<br/>serving</th></tr></thead><tbody><tr class=\"table-scroll__row\"><th>Portion Size</th><td>100</td><td></td><td></td><td></td></tr><tr class=\"table-scroll__row\"><th>Energy</th><td>2419</td><td>301</td><td>kJ</td><td>-</td></tr><tr class=\"table-scroll__row\"><th>Protein</th><td>8.8</td><td>1.1</td><td>g</td><td>-</td></tr><tr class=\"table-scroll__row\"><th>Carbohydrate</th><td>42.3</td><td>5.3</td><td>g</td><td>-</td></tr><tr class=\"table-scroll__row\"><th>    Of which Sugars</th><td>36.4</td><td>4.5</td><td>g</td><td>-</td></tr><tr class=\"table-scroll__row\"><th>Total Fat</th><td>41.9</td><td>5.2</td><td>g</td><td>-</td></tr><tr class=\"table-scroll__row\"><th>    Of which mono unsaturated fatty acids</th><td>25.1</td><td>3.1</td><td>g</td><td>-</td></tr><tr class=\"table-scroll__row\"><th>    Of which poly unsaturated fatty acids</th><td>3.1</td><td>0.4</td><td>g</td><td>-</td></tr><tr class=\"table-scroll__row\"><th>    Of which saturated fatty acids</th><td>13.7</td><td>1.7</td><td>g</td><td>-</td></tr><tr class=\"table-scroll__row\"><th>    Of which trans fatty acids</th><td>0.1</td><td>0.01</td><td>g</td><td>-</td></tr><tr class=\"table-scroll__row\"><th>Cholesterol</th><td>4.9</td><td>0.2</td><td>mg</td><td>-</td></tr><tr class=\"table-scroll__row\"><th>Dietary Fibre</th><td>4.5</td><td>0.5</td><td>g</td><td>-</td></tr><tr class=\"table-scroll__row\"><th>Sodium</th><td>43</td><td>5.3</td><td>mg</td><td>-</td></tr></tbody></table>"
      ]
     },
     "execution_count": 58,
     "metadata": {},
     "output_type": "execute_result"
    }
   ],
   "source": [
    "soup.find('table')"
   ]
  },
  {
   "cell_type": "markdown",
   "metadata": {},
   "source": [
    "### Tables in html\n",
    "- Rows are represented with `<tr>`\n",
    "- Headers are represented with `<th>`\n",
    "- Data is represented with `<td>`\n",
    "\n",
    "```\n",
    "<table>\n",
    " <tr><th>top-header1</th><th>top-header2</th><th>top-header3</th><th>top-header4</th>\n",
    " <tr><th>side-header1</th><td>x_1</td><td>y_1</td><td>z_1</td></tr>\n",
    " <tr><th>side-header2</th><td>x_2</td><td>y_2</td><td>z_2</td></tr>\n",
    " <tr><th>side-header3</th><td>x_3</td><td>y_3</td><td>z_3</td></tr>\n",
    "</table>\n",
    "```\n",
    "<table>\n",
    " <tr><th>top-header1</th><th>top-header2</th><th>top-header3</th><th>top-header4</th>\n",
    " <tr><th>side-header1</th><td>x_1</td><td>y_1</td><td>z_1</td></tr>\n",
    " <tr><th>side-header2</th><td>x_2</td><td>y_2</td><td>z_2</td></tr>\n",
    " <tr><th>side-header3</th><td>x_3</td><td>y_3</td><td>z_3</td></tr>\n",
    "</table>\n",
    "\n",
    "\n",
    "![example](../src/selenium-table.png)"
   ]
  },
  {
   "cell_type": "code",
   "execution_count": 59,
   "metadata": {},
   "outputs": [
    {
     "data": {
      "text/plain": [
       "[<tr class=\"table-scroll__row\"><th class=\"pdp-desc-font\">Description</th><th class=\"pdp-desc-font\">Per<br/>100g/ml</th><th class=\"pdp-desc-font\">Per<br/>Serving</th><th class=\"pdp-desc-font\">Measurement</th><th class=\"pdp-desc-font\">% NRV<br/> per<br/>serving</th></tr>,\n",
       " <tr class=\"table-scroll__row\"><th>Portion Size</th><td>100</td><td></td><td></td><td></td></tr>,\n",
       " <tr class=\"table-scroll__row\"><th>Energy</th><td>2419</td><td>301</td><td>kJ</td><td>-</td></tr>,\n",
       " <tr class=\"table-scroll__row\"><th>Protein</th><td>8.8</td><td>1.1</td><td>g</td><td>-</td></tr>,\n",
       " <tr class=\"table-scroll__row\"><th>Carbohydrate</th><td>42.3</td><td>5.3</td><td>g</td><td>-</td></tr>,\n",
       " <tr class=\"table-scroll__row\"><th>    Of which Sugars</th><td>36.4</td><td>4.5</td><td>g</td><td>-</td></tr>,\n",
       " <tr class=\"table-scroll__row\"><th>Total Fat</th><td>41.9</td><td>5.2</td><td>g</td><td>-</td></tr>,\n",
       " <tr class=\"table-scroll__row\"><th>    Of which mono unsaturated fatty acids</th><td>25.1</td><td>3.1</td><td>g</td><td>-</td></tr>,\n",
       " <tr class=\"table-scroll__row\"><th>    Of which poly unsaturated fatty acids</th><td>3.1</td><td>0.4</td><td>g</td><td>-</td></tr>,\n",
       " <tr class=\"table-scroll__row\"><th>    Of which saturated fatty acids</th><td>13.7</td><td>1.7</td><td>g</td><td>-</td></tr>,\n",
       " <tr class=\"table-scroll__row\"><th>    Of which trans fatty acids</th><td>0.1</td><td>0.01</td><td>g</td><td>-</td></tr>,\n",
       " <tr class=\"table-scroll__row\"><th>Cholesterol</th><td>4.9</td><td>0.2</td><td>mg</td><td>-</td></tr>,\n",
       " <tr class=\"table-scroll__row\"><th>Dietary Fibre</th><td>4.5</td><td>0.5</td><td>g</td><td>-</td></tr>,\n",
       " <tr class=\"table-scroll__row\"><th>Sodium</th><td>43</td><td>5.3</td><td>mg</td><td>-</td></tr>]"
      ]
     },
     "execution_count": 59,
     "metadata": {},
     "output_type": "execute_result"
    }
   ],
   "source": [
    "table_rows = soup.find_all('tr')\n",
    "table_rows"
   ]
  },
  {
   "cell_type": "code",
   "execution_count": 15,
   "metadata": {},
   "outputs": [],
   "source": [
    "nutrient_dict = {}\n",
    "for row in table_rows[1:]:\n",
    "    nutrient_dict[row.th.text] = row.td.text"
   ]
  },
  {
   "cell_type": "code",
   "execution_count": 16,
   "metadata": {},
   "outputs": [
    {
     "data": {
      "text/plain": [
       "{'Portion Size': '100',\n",
       " 'Energy': '2419',\n",
       " 'Protein': '8.8',\n",
       " 'Carbohydrate': '42.3',\n",
       " '    Of which Sugars': '36.4',\n",
       " 'Total Fat': '41.9',\n",
       " '    Of which mono unsaturated fatty acids': '25.1',\n",
       " '    Of which poly unsaturated fatty acids': '3.1',\n",
       " '    Of which saturated fatty acids': '13.7',\n",
       " '    Of which trans fatty acids': '0.1',\n",
       " 'Cholesterol': '4.9',\n",
       " 'Dietary Fibre': '4.5',\n",
       " 'Sodium': '43'}"
      ]
     },
     "execution_count": 16,
     "metadata": {},
     "output_type": "execute_result"
    }
   ],
   "source": [
    "nutrient_dict"
   ]
  },
  {
   "cell_type": "markdown",
   "metadata": {},
   "source": [
    "### With the scrape flow working for 1 product, lets put it into a function"
   ]
  },
  {
   "cell_type": "code",
   "execution_count": 17,
   "metadata": {},
   "outputs": [],
   "source": [
    "def scrape_product_nutrition(product_id):\n",
    "    product_url = 'https://www.woolworths.co.za/cat?Ntt={}&Dy=1'.format(str(product_id))\n",
    "    \n",
    "    driver.get(product_url)\n",
    "    \n",
    "    clickable_list = driver.find_elements_by_class_name('accordion__toggle--chrome')\n",
    "    \n",
    "    for i, clickable in enumerate(clickable_list):\n",
    "        if clickable.text.lower() == 'nutritional information':\n",
    "            clickable.click()\n",
    "    \n",
    "    soup = BS(driver.page_source, 'lxml')\n",
    "    \n",
    "    product = soup.find(attrs={'class':'prod-name'}).text\n",
    "    \n",
    "    table_rows = soup.find_all('tr')\n",
    "    \n",
    "    nutrient_dict = {}\n",
    "    nutrient_dict['product_id'] = str(product_id)\n",
    "    nutrient_dict['product_name']= product\n",
    "    \n",
    "    for row in table_rows[1:]:\n",
    "        nutrient_dict[row.th.text] = row.td.text\n",
    "    \n",
    "    return nutrient_dict"
   ]
  },
  {
   "cell_type": "markdown",
   "metadata": {},
   "source": [
    "### Check that it scrapes correctly"
   ]
  },
  {
   "cell_type": "code",
   "execution_count": 60,
   "metadata": {},
   "outputs": [
    {
     "data": {
      "text/plain": [
       "{'product_id': '8000500037874',\n",
       " 'product_name': 'Ferrero Rocher 200g',\n",
       " 'Portion Size': '100',\n",
       " 'Energy': '2419',\n",
       " 'Protein': '8.8',\n",
       " 'Carbohydrate': '42.3',\n",
       " '    Of which Sugars': '36.4',\n",
       " 'Total Fat': '41.9',\n",
       " '    Of which mono unsaturated fatty acids': '25.1',\n",
       " '    Of which poly unsaturated fatty acids': '3.1',\n",
       " '    Of which saturated fatty acids': '13.7',\n",
       " '    Of which trans fatty acids': '0.1',\n",
       " 'Cholesterol': '4.9',\n",
       " 'Dietary Fibre': '4.5',\n",
       " 'Sodium': '43'}"
      ]
     },
     "execution_count": 60,
     "metadata": {},
     "output_type": "execute_result"
    }
   ],
   "source": [
    "scrape_product_nutrition(8000500037874)"
   ]
  },
  {
   "cell_type": "code",
   "execution_count": 61,
   "metadata": {},
   "outputs": [],
   "source": [
    "essential_list = [3046920029759, 6009204330887, 6009801741758, 6001275000003, 6009178222607]"
   ]
  },
  {
   "cell_type": "code",
   "execution_count": 65,
   "metadata": {},
   "outputs": [],
   "source": [
    "products = []\n",
    "for product_id in essential_list:\n",
    "    products.append(scrape_product_nutrition(product_id))"
   ]
  },
  {
   "cell_type": "code",
   "execution_count": 66,
   "metadata": {},
   "outputs": [],
   "source": [
    "df = pd.DataFrame(products)"
   ]
  },
  {
   "cell_type": "code",
   "execution_count": 67,
   "metadata": {},
   "outputs": [
    {
     "data": {
      "text/html": [
       "<div>\n",
       "<style scoped>\n",
       "    .dataframe tbody tr th:only-of-type {\n",
       "        vertical-align: middle;\n",
       "    }\n",
       "\n",
       "    .dataframe tbody tr th {\n",
       "        vertical-align: top;\n",
       "    }\n",
       "\n",
       "    .dataframe thead th {\n",
       "        text-align: right;\n",
       "    }\n",
       "</style>\n",
       "<table border=\"1\" class=\"dataframe\">\n",
       "  <thead>\n",
       "    <tr style=\"text-align: right;\">\n",
       "      <th></th>\n",
       "      <th>product_id</th>\n",
       "      <th>product_name</th>\n",
       "      <th>Portion Size</th>\n",
       "      <th>Energy</th>\n",
       "      <th>Calories</th>\n",
       "      <th>Protein</th>\n",
       "      <th>Carbohydrate</th>\n",
       "      <th>Of which Sugars</th>\n",
       "      <th>Total Fat</th>\n",
       "      <th>Of which saturated fatty acids</th>\n",
       "      <th>Cholesterol</th>\n",
       "      <th>Dietary Fibre</th>\n",
       "      <th>Sodium</th>\n",
       "      <th>Glycaemic carbohydrates</th>\n",
       "      <th>of which saturated fat</th>\n",
       "      <th>of which monounsaturated fat</th>\n",
       "      <th>of which polyunsaturated fat</th>\n",
       "      <th>Dietary Fibre#</th>\n",
       "      <th>Total sodium</th>\n",
       "      <th>Vitamin B1 or Thiamin</th>\n",
       "      <th>Vitamin B2 or Riboflavin</th>\n",
       "      <th>Tinamide or niacin</th>\n",
       "      <th>Vitamin B6 or pyridoxine</th>\n",
       "      <th>Folic Acid or Folacin</th>\n",
       "      <th>Biotin</th>\n",
       "      <th>Calcium</th>\n",
       "      <th>Phosphorus</th>\n",
       "      <th>Iron</th>\n",
       "      <th>Magnesium</th>\n",
       "      <th>Zinc</th>\n",
       "    </tr>\n",
       "  </thead>\n",
       "  <tbody>\n",
       "    <tr>\n",
       "      <th>0</th>\n",
       "      <td>3046920029759</td>\n",
       "      <td>Lindt Excellence 90% Cocoa Dark Chocolate 100g</td>\n",
       "      <td>100</td>\n",
       "      <td>2483</td>\n",
       "      <td>592</td>\n",
       "      <td>10</td>\n",
       "      <td>14</td>\n",
       "      <td>7.0</td>\n",
       "      <td>55</td>\n",
       "      <td>30</td>\n",
       "      <td>1.6</td>\n",
       "      <td>5</td>\n",
       "      <td>0.01</td>\n",
       "      <td>NaN</td>\n",
       "      <td>NaN</td>\n",
       "      <td>NaN</td>\n",
       "      <td>NaN</td>\n",
       "      <td>NaN</td>\n",
       "      <td>NaN</td>\n",
       "      <td>NaN</td>\n",
       "      <td>NaN</td>\n",
       "      <td>NaN</td>\n",
       "      <td>NaN</td>\n",
       "      <td>NaN</td>\n",
       "      <td>NaN</td>\n",
       "      <td>NaN</td>\n",
       "      <td>NaN</td>\n",
       "      <td>NaN</td>\n",
       "      <td>NaN</td>\n",
       "      <td>NaN</td>\n",
       "    </tr>\n",
       "    <tr>\n",
       "      <th>1</th>\n",
       "      <td>6009204330887</td>\n",
       "      <td>Coconut Nectar with Chocolate 330ml</td>\n",
       "      <td>100</td>\n",
       "      <td>141</td>\n",
       "      <td>NaN</td>\n",
       "      <td>0.4</td>\n",
       "      <td>4</td>\n",
       "      <td>7</td>\n",
       "      <td>&lt;0.1</td>\n",
       "      <td>&lt;0.1</td>\n",
       "      <td>NaN</td>\n",
       "      <td>0.7</td>\n",
       "      <td>17</td>\n",
       "      <td>NaN</td>\n",
       "      <td>NaN</td>\n",
       "      <td>NaN</td>\n",
       "      <td>NaN</td>\n",
       "      <td>NaN</td>\n",
       "      <td>NaN</td>\n",
       "      <td>NaN</td>\n",
       "      <td>NaN</td>\n",
       "      <td>NaN</td>\n",
       "      <td>NaN</td>\n",
       "      <td>NaN</td>\n",
       "      <td>NaN</td>\n",
       "      <td>NaN</td>\n",
       "      <td>NaN</td>\n",
       "      <td>NaN</td>\n",
       "      <td>NaN</td>\n",
       "      <td>NaN</td>\n",
       "    </tr>\n",
       "    <tr>\n",
       "      <th>2</th>\n",
       "      <td>6009801741758</td>\n",
       "      <td>Futurelife® Low GI Strawberry Flavour Cereal 500g</td>\n",
       "      <td>100</td>\n",
       "      <td>1673</td>\n",
       "      <td>NaN</td>\n",
       "      <td>18</td>\n",
       "      <td>NaN</td>\n",
       "      <td>NaN</td>\n",
       "      <td>9.8</td>\n",
       "      <td>NaN</td>\n",
       "      <td>NaN</td>\n",
       "      <td>NaN</td>\n",
       "      <td>NaN</td>\n",
       "      <td>15</td>\n",
       "      <td>2.9</td>\n",
       "      <td>3.5</td>\n",
       "      <td>3.4</td>\n",
       "      <td>6.1</td>\n",
       "      <td>284</td>\n",
       "      <td>NaN</td>\n",
       "      <td>NaN</td>\n",
       "      <td>NaN</td>\n",
       "      <td>NaN</td>\n",
       "      <td>NaN</td>\n",
       "      <td>NaN</td>\n",
       "      <td>NaN</td>\n",
       "      <td>NaN</td>\n",
       "      <td>NaN</td>\n",
       "      <td>NaN</td>\n",
       "      <td>NaN</td>\n",
       "    </tr>\n",
       "    <tr>\n",
       "      <th>3</th>\n",
       "      <td>6001275000003</td>\n",
       "      <td>Jungle Oats 1Kg</td>\n",
       "      <td>100</td>\n",
       "      <td>1443</td>\n",
       "      <td>NaN</td>\n",
       "      <td>12.3</td>\n",
       "      <td>56.2</td>\n",
       "      <td>NaN</td>\n",
       "      <td>9.1</td>\n",
       "      <td>NaN</td>\n",
       "      <td>NaN</td>\n",
       "      <td>3.7</td>\n",
       "      <td>0</td>\n",
       "      <td>NaN</td>\n",
       "      <td>NaN</td>\n",
       "      <td>NaN</td>\n",
       "      <td>NaN</td>\n",
       "      <td>NaN</td>\n",
       "      <td>NaN</td>\n",
       "      <td>0.53</td>\n",
       "      <td>0.3</td>\n",
       "      <td>1.4</td>\n",
       "      <td>0.2</td>\n",
       "      <td>25</td>\n",
       "      <td>15</td>\n",
       "      <td>45</td>\n",
       "      <td>440</td>\n",
       "      <td>4.0</td>\n",
       "      <td>140</td>\n",
       "      <td>3.5</td>\n",
       "    </tr>\n",
       "    <tr>\n",
       "      <th>4</th>\n",
       "      <td>6009178222607</td>\n",
       "      <td>Fynbos Honey 375g</td>\n",
       "      <td>100</td>\n",
       "      <td>1404\\tkJ</td>\n",
       "      <td>NaN</td>\n",
       "      <td>0.3</td>\n",
       "      <td>82.3\\tg</td>\n",
       "      <td>82.3\\tg</td>\n",
       "      <td>0g</td>\n",
       "      <td>NaN</td>\n",
       "      <td>0</td>\n",
       "      <td>0.0</td>\n",
       "      <td>5</td>\n",
       "      <td>NaN</td>\n",
       "      <td>NaN</td>\n",
       "      <td>NaN</td>\n",
       "      <td>NaN</td>\n",
       "      <td>NaN</td>\n",
       "      <td>NaN</td>\n",
       "      <td>NaN</td>\n",
       "      <td>NaN</td>\n",
       "      <td>NaN</td>\n",
       "      <td>NaN</td>\n",
       "      <td>NaN</td>\n",
       "      <td>NaN</td>\n",
       "      <td>NaN</td>\n",
       "      <td>NaN</td>\n",
       "      <td>NaN</td>\n",
       "      <td>NaN</td>\n",
       "      <td>NaN</td>\n",
       "    </tr>\n",
       "  </tbody>\n",
       "</table>\n",
       "</div>"
      ],
      "text/plain": [
       "      product_id                                       product_name  \\\n",
       "0  3046920029759     Lindt Excellence 90% Cocoa Dark Chocolate 100g   \n",
       "1  6009204330887                Coconut Nectar with Chocolate 330ml   \n",
       "2  6009801741758  Futurelife® Low GI Strawberry Flavour Cereal 500g   \n",
       "3  6001275000003                                    Jungle Oats 1Kg   \n",
       "4  6009178222607                                  Fynbos Honey 375g   \n",
       "\n",
       "  Portion Size    Energy Calories Protein Carbohydrate     Of which Sugars  \\\n",
       "0          100      2483      592      10           14                 7.0   \n",
       "1          100       141      NaN     0.4            4                   7   \n",
       "2          100      1673      NaN      18          NaN                 NaN   \n",
       "3          100      1443      NaN    12.3         56.2                 NaN   \n",
       "4          100  1404\\tkJ      NaN     0.3      82.3\\tg             82.3\\tg   \n",
       "\n",
       "  Total Fat     Of which saturated fatty acids Cholesterol Dietary Fibre  \\\n",
       "0        55                                 30         1.6             5   \n",
       "1      <0.1                               <0.1         NaN           0.7   \n",
       "2       9.8                                NaN         NaN           NaN   \n",
       "3       9.1                                NaN         NaN           3.7   \n",
       "4        0g                                NaN           0           0.0   \n",
       "\n",
       "  Sodium Glycaemic carbohydrates  of which saturated fat  \\\n",
       "0   0.01                     NaN                     NaN   \n",
       "1     17                     NaN                     NaN   \n",
       "2    NaN                      15                     2.9   \n",
       "3      0                     NaN                     NaN   \n",
       "4      5                     NaN                     NaN   \n",
       "\n",
       "   of which monounsaturated fat  of which polyunsaturated fat Dietary Fibre#  \\\n",
       "0                           NaN                           NaN            NaN   \n",
       "1                           NaN                           NaN            NaN   \n",
       "2                           3.5                           3.4            6.1   \n",
       "3                           NaN                           NaN            NaN   \n",
       "4                           NaN                           NaN            NaN   \n",
       "\n",
       "  Total sodium Vitamin B1 or Thiamin Vitamin B2 or Riboflavin  \\\n",
       "0          NaN                   NaN                      NaN   \n",
       "1          NaN                   NaN                      NaN   \n",
       "2          284                   NaN                      NaN   \n",
       "3          NaN                  0.53                      0.3   \n",
       "4          NaN                   NaN                      NaN   \n",
       "\n",
       "  Tinamide or niacin Vitamin B6 or pyridoxine Folic Acid or Folacin Biotin  \\\n",
       "0                NaN                      NaN                   NaN    NaN   \n",
       "1                NaN                      NaN                   NaN    NaN   \n",
       "2                NaN                      NaN                   NaN    NaN   \n",
       "3                1.4                      0.2                    25     15   \n",
       "4                NaN                      NaN                   NaN    NaN   \n",
       "\n",
       "  Calcium Phosphorus Iron Magnesium Zinc  \n",
       "0     NaN        NaN  NaN       NaN  NaN  \n",
       "1     NaN        NaN  NaN       NaN  NaN  \n",
       "2     NaN        NaN  NaN       NaN  NaN  \n",
       "3      45        440  4.0       140  3.5  \n",
       "4     NaN        NaN  NaN       NaN  NaN  "
      ]
     },
     "execution_count": 67,
     "metadata": {},
     "output_type": "execute_result"
    }
   ],
   "source": [
    "df"
   ]
  },
  {
   "cell_type": "markdown",
   "metadata": {},
   "source": [
    "## That concludes scraping with Selenium!"
   ]
  },
  {
   "cell_type": "code",
   "execution_count": null,
   "metadata": {},
   "outputs": [],
   "source": []
  }
 ],
 "metadata": {
  "kernelspec": {
   "display_name": "Python 3",
   "language": "python",
   "name": "python3"
  },
  "language_info": {
   "codemirror_mode": {
    "name": "ipython",
    "version": 3
   },
   "file_extension": ".py",
   "mimetype": "text/x-python",
   "name": "python",
   "nbconvert_exporter": "python",
   "pygments_lexer": "ipython3",
   "version": "3.7.6"
  }
 },
 "nbformat": 4,
 "nbformat_minor": 4
}
