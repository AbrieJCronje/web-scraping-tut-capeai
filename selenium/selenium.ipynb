{
 "cells": [
  {
   "cell_type": "markdown",
   "metadata": {},
   "source": [
    "# Selenium\n",
    "\n",
    "### Here we use selenium alongside geckodriver to create a bot browser instance so we can circumvent some javascript events"
   ]
  },
  {
   "cell_type": "code",
   "execution_count": 1,
   "metadata": {},
   "outputs": [
    {
     "name": "stdout",
     "output_type": "stream",
     "text": [
      "Requirement already satisfied: selenium in /home/joram/anaconda3/lib/python3.7/site-packages (3.141.0)\n",
      "Requirement already satisfied: urllib3 in /home/joram/anaconda3/lib/python3.7/site-packages (from selenium) (1.25.8)\n",
      "\u001b[33mWARNING: You are using pip version 20.1; however, version 20.1.1 is available.\n",
      "You should consider upgrading via the '/home/joram/anaconda3/bin/python -m pip install --upgrade pip' command.\u001b[0m\n"
     ]
    }
   ],
   "source": [
    "!pip install selenium"
   ]
  },
  {
   "cell_type": "code",
   "execution_count": 2,
   "metadata": {},
   "outputs": [],
   "source": [
    "from selenium import webdriver\n",
    "from bs4 import BeautifulSoup as BS\n",
    "import pandas as pd\n",
    "pd.set_option('display.max_columns', None)"
   ]
  },
  {
   "cell_type": "markdown",
   "metadata": {},
   "source": [
    "### Creating a webdriver"
   ]
  },
  {
   "cell_type": "code",
   "execution_count": 3,
   "metadata": {},
   "outputs": [],
   "source": [
    "driver = webdriver.Firefox(executable_path='./geckodriver')"
   ]
  },
  {
   "cell_type": "markdown",
   "metadata": {},
   "source": [
    "Creating a Selenium Firefox webdriver using geckodriver results in a real browser window that we can control with python\n",
    "\n",
    "\n",
    "![example-img](../src/selenium-webdriver.png)"
   ]
  },
  {
   "cell_type": "markdown",
   "metadata": {},
   "source": [
    "Using this driver, we can go to any page we'd like."
   ]
  },
  {
   "cell_type": "code",
   "execution_count": 4,
   "metadata": {},
   "outputs": [],
   "source": [
    "url = 'https://www.woolworths.co.za'"
   ]
  },
  {
   "cell_type": "code",
   "execution_count": 5,
   "metadata": {},
   "outputs": [],
   "source": [
    "driver.get(url)"
   ]
  },
  {
   "cell_type": "markdown",
   "metadata": {},
   "source": [
    "![example-img](../src/selenium-url.png)"
   ]
  },
  {
   "cell_type": "markdown",
   "metadata": {},
   "source": [
    "### Why Selenium?"
   ]
  },
  {
   "cell_type": "markdown",
   "metadata": {},
   "source": [
    "I think it's best to learn by example, so let's start!\n",
    "\n",
    "Say we want to scrape the nutrional information about a list of Woolworths products. To develop the flow, we start with a single product."
   ]
  },
  {
   "cell_type": "code",
   "execution_count": 6,
   "metadata": {},
   "outputs": [],
   "source": [
    "product_id = 8000500037874\n",
    "product_url = 'https://www.woolworths.co.za/cat?Ntt={}&Dy=1'.format(product_id)\n",
    "driver.get(product_url)"
   ]
  },
  {
   "cell_type": "code",
   "execution_count": 7,
   "metadata": {},
   "outputs": [],
   "source": [
    "soup = BS(driver.page_source, 'lxml')"
   ]
  },
  {
   "cell_type": "markdown",
   "metadata": {},
   "source": [
    "### Inspect the html to see which element or class name can we use to find the table"
   ]
  },
  {
   "cell_type": "code",
   "execution_count": 8,
   "metadata": {},
   "outputs": [],
   "source": [
    "soup.find('table')"
   ]
  },
  {
   "cell_type": "markdown",
   "metadata": {},
   "source": [
    "### Nothing found since the table is hidden until an event occurs"
   ]
  },
  {
   "cell_type": "markdown",
   "metadata": {},
   "source": [
    "Where in BeautifulSoup you find elements using `.find` or `.find_all`, Selenium works a bit differently.\n",
    "You specify what you are looking for in the method name."
   ]
  },
  {
   "cell_type": "code",
   "execution_count": 9,
   "metadata": {},
   "outputs": [
    {
     "data": {
      "text/plain": [
       "[<selenium.webdriver.firefox.webelement.FirefoxWebElement (session=\"b09e8b39-6771-4040-bda4-833fdd329e16\", element=\"5bc321b7-c44b-4640-a06b-8684336536ab\")>,\n",
       " <selenium.webdriver.firefox.webelement.FirefoxWebElement (session=\"b09e8b39-6771-4040-bda4-833fdd329e16\", element=\"8379ef2e-62c5-4643-a6f7-ca58b40c3c16\")>,\n",
       " <selenium.webdriver.firefox.webelement.FirefoxWebElement (session=\"b09e8b39-6771-4040-bda4-833fdd329e16\", element=\"5675f8cb-f5a0-40ef-93b8-7935561a75e5\")>,\n",
       " <selenium.webdriver.firefox.webelement.FirefoxWebElement (session=\"b09e8b39-6771-4040-bda4-833fdd329e16\", element=\"cefa8500-0a5f-42d7-a071-ff7e07b86333\")>,\n",
       " <selenium.webdriver.firefox.webelement.FirefoxWebElement (session=\"b09e8b39-6771-4040-bda4-833fdd329e16\", element=\"c6fd1331-fb08-4ee8-b8ef-2313b665642a\")>]"
      ]
     },
     "execution_count": 9,
     "metadata": {},
     "output_type": "execute_result"
    }
   ],
   "source": [
    "clickable_list = driver.find_elements_by_class_name('accordion__toggle--chrome')\n",
    "clickable_list"
   ]
  },
  {
   "cell_type": "code",
   "execution_count": 10,
   "metadata": {},
   "outputs": [
    {
     "data": {
      "text/plain": [
       "selenium.webdriver.firefox.webelement.FirefoxWebElement"
      ]
     },
     "execution_count": 10,
     "metadata": {},
     "output_type": "execute_result"
    }
   ],
   "source": [
    "type(clickable_list[0])"
   ]
  },
  {
   "cell_type": "markdown",
   "metadata": {},
   "source": [
    "When working with unknown (or known) types, `dir` is a handy tool to check what you can do!"
   ]
  },
  {
   "cell_type": "code",
   "execution_count": 11,
   "metadata": {},
   "outputs": [
    {
     "data": {
      "text/plain": [
       "['__class__',\n",
       " '__delattr__',\n",
       " '__dict__',\n",
       " '__dir__',\n",
       " '__doc__',\n",
       " '__eq__',\n",
       " '__format__',\n",
       " '__ge__',\n",
       " '__getattribute__',\n",
       " '__gt__',\n",
       " '__hash__',\n",
       " '__init__',\n",
       " '__init_subclass__',\n",
       " '__le__',\n",
       " '__lt__',\n",
       " '__module__',\n",
       " '__ne__',\n",
       " '__new__',\n",
       " '__reduce__',\n",
       " '__reduce_ex__',\n",
       " '__repr__',\n",
       " '__setattr__',\n",
       " '__sizeof__',\n",
       " '__str__',\n",
       " '__subclasshook__',\n",
       " '__weakref__',\n",
       " '_execute',\n",
       " '_id',\n",
       " '_parent',\n",
       " '_upload',\n",
       " '_w3c',\n",
       " 'anonymous_children',\n",
       " 'clear',\n",
       " 'click',\n",
       " 'find_anonymous_element_by_attribute',\n",
       " 'find_element',\n",
       " 'find_element_by_class_name',\n",
       " 'find_element_by_css_selector',\n",
       " 'find_element_by_id',\n",
       " 'find_element_by_link_text',\n",
       " 'find_element_by_name',\n",
       " 'find_element_by_partial_link_text',\n",
       " 'find_element_by_tag_name',\n",
       " 'find_element_by_xpath',\n",
       " 'find_elements',\n",
       " 'find_elements_by_class_name',\n",
       " 'find_elements_by_css_selector',\n",
       " 'find_elements_by_id',\n",
       " 'find_elements_by_link_text',\n",
       " 'find_elements_by_name',\n",
       " 'find_elements_by_partial_link_text',\n",
       " 'find_elements_by_tag_name',\n",
       " 'find_elements_by_xpath',\n",
       " 'get_attribute',\n",
       " 'get_property',\n",
       " 'id',\n",
       " 'is_displayed',\n",
       " 'is_enabled',\n",
       " 'is_selected',\n",
       " 'location',\n",
       " 'location_once_scrolled_into_view',\n",
       " 'parent',\n",
       " 'rect',\n",
       " 'screenshot',\n",
       " 'screenshot_as_base64',\n",
       " 'screenshot_as_png',\n",
       " 'send_keys',\n",
       " 'size',\n",
       " 'submit',\n",
       " 'tag_name',\n",
       " 'text',\n",
       " 'value_of_css_property']"
      ]
     },
     "execution_count": 11,
     "metadata": {},
     "output_type": "execute_result"
    }
   ],
   "source": [
    "dir(clickable_list[0])"
   ]
  },
  {
   "cell_type": "code",
   "execution_count": 12,
   "metadata": {},
   "outputs": [
    {
     "data": {
      "text/plain": [
       "'h4'"
      ]
     },
     "execution_count": 12,
     "metadata": {},
     "output_type": "execute_result"
    }
   ],
   "source": [
    "clickable_list[0].tag_name"
   ]
  },
  {
   "cell_type": "code",
   "execution_count": 13,
   "metadata": {},
   "outputs": [],
   "source": [
    "for clickable in clickable_list:\n",
    "    if clickable.text.lower() == 'nutritional information':\n",
    "        clickable.click()"
   ]
  },
  {
   "cell_type": "markdown",
   "metadata": {},
   "source": [
    "### Reload soup after click!"
   ]
  },
  {
   "cell_type": "code",
   "execution_count": 14,
   "metadata": {},
   "outputs": [],
   "source": [
    "soup = BS(driver.page_source, 'lxml')"
   ]
  },
  {
   "cell_type": "code",
   "execution_count": 15,
   "metadata": {},
   "outputs": [
    {
     "data": {
      "text/plain": [
       "<table cellpadding=\"0\" cellspacing=\"0\" class=\"table table-scroll__table table--zebra table--nutrition\"><thead class=\"table__head\"><tr class=\"table-scroll__row\"><th class=\"pdp-desc-font\">Description</th><th class=\"pdp-desc-font\">Per<br/>100g/ml</th><th class=\"pdp-desc-font\">Per<br/>Serving</th><th class=\"pdp-desc-font\">Measurement</th><th class=\"pdp-desc-font\">% NRV<br/> per<br/>serving</th></tr></thead><tbody><tr class=\"table-scroll__row\"><th>Portion Size</th><td>100</td><td></td><td></td><td></td></tr><tr class=\"table-scroll__row\"><th>Energy</th><td>2419</td><td>301</td><td>kJ</td><td>-</td></tr><tr class=\"table-scroll__row\"><th>Protein</th><td>8.8</td><td>1.1</td><td>g</td><td>-</td></tr><tr class=\"table-scroll__row\"><th>Carbohydrate</th><td>42.3</td><td>5.3</td><td>g</td><td>-</td></tr><tr class=\"table-scroll__row\"><th>    Of which Sugars</th><td>36.4</td><td>4.5</td><td>g</td><td>-</td></tr><tr class=\"table-scroll__row\"><th>Total Fat</th><td>41.9</td><td>5.2</td><td>g</td><td>-</td></tr><tr class=\"table-scroll__row\"><th>    Of which mono unsaturated fatty acids</th><td>25.1</td><td>3.1</td><td>g</td><td>-</td></tr><tr class=\"table-scroll__row\"><th>    Of which poly unsaturated fatty acids</th><td>3.1</td><td>0.4</td><td>g</td><td>-</td></tr><tr class=\"table-scroll__row\"><th>    Of which saturated fatty acids</th><td>13.7</td><td>1.7</td><td>g</td><td>-</td></tr><tr class=\"table-scroll__row\"><th>    Of which trans fatty acids</th><td>0.1</td><td>0.01</td><td>g</td><td>-</td></tr><tr class=\"table-scroll__row\"><th>Cholesterol</th><td>4.9</td><td>0.2</td><td>mg</td><td>-</td></tr><tr class=\"table-scroll__row\"><th>Dietary Fibre</th><td>4.5</td><td>0.5</td><td>g</td><td>-</td></tr><tr class=\"table-scroll__row\"><th>Sodium</th><td>43</td><td>5.3</td><td>mg</td><td>-</td></tr></tbody></table>"
      ]
     },
     "execution_count": 15,
     "metadata": {},
     "output_type": "execute_result"
    }
   ],
   "source": [
    "soup.find('table')"
   ]
  },
  {
   "cell_type": "markdown",
   "metadata": {},
   "source": [
    "### Tables in html\n",
    "- Rows are represented with `<tr>`\n",
    "- Headers are represented with `<th>`\n",
    "- Data is represented with `<td>`\n",
    "\n",
    "```\n",
    "<table>\n",
    " <tr><th>top-header1</th><th>top-header2</th><th>top-header3</th><th>top-header4</th>\n",
    " <tr><th>side-header1</th><td>x_1</td><td>y_1</td><td>z_1</td></tr>\n",
    " <tr><th>side-header2</th><td>x_2</td><td>y_2</td><td>z_2</td></tr>\n",
    " <tr><th>side-header3</th><td>x_3</td><td>y_3</td><td>z_3</td></tr>\n",
    "</table>\n",
    "```\n",
    "<table>\n",
    " <tr><th>top-header1</th><th>top-header2</th><th>top-header3</th><th>top-header4</th>\n",
    " <tr><th>side-header1</th><td>x_1</td><td>y_1</td><td>z_1</td></tr>\n",
    " <tr><th>side-header2</th><td>x_2</td><td>y_2</td><td>z_2</td></tr>\n",
    " <tr><th>side-header3</th><td>x_3</td><td>y_3</td><td>z_3</td></tr>\n",
    "</table>\n",
    "\n",
    "\n",
    "![example](../src/selenium-table.png)"
   ]
  },
  {
   "cell_type": "code",
   "execution_count": 16,
   "metadata": {},
   "outputs": [
    {
     "data": {
      "text/plain": [
       "[<tr class=\"table-scroll__row\"><th class=\"pdp-desc-font\">Description</th><th class=\"pdp-desc-font\">Per<br/>100g/ml</th><th class=\"pdp-desc-font\">Per<br/>Serving</th><th class=\"pdp-desc-font\">Measurement</th><th class=\"pdp-desc-font\">% NRV<br/> per<br/>serving</th></tr>,\n",
       " <tr class=\"table-scroll__row\"><th>Portion Size</th><td>100</td><td></td><td></td><td></td></tr>,\n",
       " <tr class=\"table-scroll__row\"><th>Energy</th><td>2419</td><td>301</td><td>kJ</td><td>-</td></tr>,\n",
       " <tr class=\"table-scroll__row\"><th>Protein</th><td>8.8</td><td>1.1</td><td>g</td><td>-</td></tr>,\n",
       " <tr class=\"table-scroll__row\"><th>Carbohydrate</th><td>42.3</td><td>5.3</td><td>g</td><td>-</td></tr>,\n",
       " <tr class=\"table-scroll__row\"><th>    Of which Sugars</th><td>36.4</td><td>4.5</td><td>g</td><td>-</td></tr>,\n",
       " <tr class=\"table-scroll__row\"><th>Total Fat</th><td>41.9</td><td>5.2</td><td>g</td><td>-</td></tr>,\n",
       " <tr class=\"table-scroll__row\"><th>    Of which mono unsaturated fatty acids</th><td>25.1</td><td>3.1</td><td>g</td><td>-</td></tr>,\n",
       " <tr class=\"table-scroll__row\"><th>    Of which poly unsaturated fatty acids</th><td>3.1</td><td>0.4</td><td>g</td><td>-</td></tr>,\n",
       " <tr class=\"table-scroll__row\"><th>    Of which saturated fatty acids</th><td>13.7</td><td>1.7</td><td>g</td><td>-</td></tr>,\n",
       " <tr class=\"table-scroll__row\"><th>    Of which trans fatty acids</th><td>0.1</td><td>0.01</td><td>g</td><td>-</td></tr>,\n",
       " <tr class=\"table-scroll__row\"><th>Cholesterol</th><td>4.9</td><td>0.2</td><td>mg</td><td>-</td></tr>,\n",
       " <tr class=\"table-scroll__row\"><th>Dietary Fibre</th><td>4.5</td><td>0.5</td><td>g</td><td>-</td></tr>,\n",
       " <tr class=\"table-scroll__row\"><th>Sodium</th><td>43</td><td>5.3</td><td>mg</td><td>-</td></tr>]"
      ]
     },
     "execution_count": 16,
     "metadata": {},
     "output_type": "execute_result"
    }
   ],
   "source": [
    "table_rows = soup.find_all('tr')\n",
    "table_rows"
   ]
  },
  {
   "cell_type": "code",
   "execution_count": 17,
   "metadata": {},
   "outputs": [],
   "source": [
    "nutrient_dict = {}\n",
    "for row in table_rows[1:]:\n",
    "    nutrient_dict[row.th.text] = row.td.text"
   ]
  },
  {
   "cell_type": "code",
   "execution_count": 18,
   "metadata": {},
   "outputs": [
    {
     "data": {
      "text/plain": [
       "{'Portion Size': '100',\n",
       " 'Energy': '2419',\n",
       " 'Protein': '8.8',\n",
       " 'Carbohydrate': '42.3',\n",
       " '    Of which Sugars': '36.4',\n",
       " 'Total Fat': '41.9',\n",
       " '    Of which mono unsaturated fatty acids': '25.1',\n",
       " '    Of which poly unsaturated fatty acids': '3.1',\n",
       " '    Of which saturated fatty acids': '13.7',\n",
       " '    Of which trans fatty acids': '0.1',\n",
       " 'Cholesterol': '4.9',\n",
       " 'Dietary Fibre': '4.5',\n",
       " 'Sodium': '43'}"
      ]
     },
     "execution_count": 18,
     "metadata": {},
     "output_type": "execute_result"
    }
   ],
   "source": [
    "nutrient_dict"
   ]
  },
  {
   "cell_type": "markdown",
   "metadata": {},
   "source": [
    "### With the scrape flow working for 1 product, lets put it into a function"
   ]
  },
  {
   "cell_type": "code",
   "execution_count": 19,
   "metadata": {},
   "outputs": [],
   "source": [
    "def scrape_product_nutrition(product_id):\n",
    "    \n",
    "    # make product url\n",
    "    product_url = 'https://www.woolworths.co.za/cat?Ntt={}&Dy=1'.format(str(product_id))\n",
    "    \n",
    "    # point driver to url\n",
    "    driver.get(product_url)\n",
    "    \n",
    "    # generate clickable list\n",
    "    clickable_list = driver.find_elements_by_class_name('accordion__toggle--chrome')\n",
    "    \n",
    "    # find the clickable corresponding to nutritional information and click it\n",
    "    for clickable in clickable_list:\n",
    "        if clickable.text.lower() == 'nutritional information':\n",
    "            clickable.click()\n",
    "            break\n",
    "            \n",
    "    # make some new soup\n",
    "    soup = BS(driver.page_source, 'lxml')\n",
    "    \n",
    "    # find the product name for some human readability\n",
    "    product = soup.find(attrs={'class':'prod-name'}).text\n",
    "    \n",
    "    # create a list of all the table rows\n",
    "    table_rows = soup.find_all('tr')\n",
    "    \n",
    "    # initiate the data dictionary\n",
    "    nutrient_dict = {}\n",
    "    nutrient_dict['product_id'] = str(product_id)\n",
    "    nutrient_dict['product_name']= product\n",
    "    \n",
    "    # fill the dictionary with headings and data\n",
    "    for row in table_rows[1:]:\n",
    "        nutrient_dict[row.th.text] = row.td.text\n",
    "    \n",
    "    return nutrient_dict"
   ]
  },
  {
   "cell_type": "markdown",
   "metadata": {},
   "source": [
    "### Check that it scrapes correctly"
   ]
  },
  {
   "cell_type": "code",
   "execution_count": 20,
   "metadata": {},
   "outputs": [
    {
     "data": {
      "text/plain": [
       "{'product_id': '8000500037874',\n",
       " 'product_name': 'Ferrero Rocher 200g',\n",
       " 'Portion Size': '100',\n",
       " 'Energy': '2419',\n",
       " 'Protein': '8.8',\n",
       " 'Carbohydrate': '42.3',\n",
       " '    Of which Sugars': '36.4',\n",
       " 'Total Fat': '41.9',\n",
       " '    Of which mono unsaturated fatty acids': '25.1',\n",
       " '    Of which poly unsaturated fatty acids': '3.1',\n",
       " '    Of which saturated fatty acids': '13.7',\n",
       " '    Of which trans fatty acids': '0.1',\n",
       " 'Cholesterol': '4.9',\n",
       " 'Dietary Fibre': '4.5',\n",
       " 'Sodium': '43'}"
      ]
     },
     "execution_count": 20,
     "metadata": {},
     "output_type": "execute_result"
    }
   ],
   "source": [
    "scrape_product_nutrition(8000500037874)"
   ]
  },
  {
   "cell_type": "markdown",
   "metadata": {},
   "source": [
    "### Try it for a list of essential items!"
   ]
  },
  {
   "cell_type": "code",
   "execution_count": 21,
   "metadata": {},
   "outputs": [],
   "source": [
    "essential_list = [3046920029759, 6009204330887, 6009801741758, 6001275000003, 6009178222607]"
   ]
  },
  {
   "cell_type": "code",
   "execution_count": null,
   "metadata": {},
   "outputs": [],
   "source": [
    "products = []\n",
    "for product_id in essential_list:\n",
    "    data_dict = scrape_product_nutrition(product_id)\n",
    "    products.append(data_dict)"
   ]
  },
  {
   "cell_type": "code",
   "execution_count": null,
   "metadata": {},
   "outputs": [],
   "source": [
    "df = pd.DataFrame(products)"
   ]
  },
  {
   "cell_type": "code",
   "execution_count": null,
   "metadata": {},
   "outputs": [],
   "source": [
    "df.fillna(0)"
   ]
  },
  {
   "cell_type": "markdown",
   "metadata": {},
   "source": [
    "## That concludes scraping with Selenium!"
   ]
  },
  {
   "cell_type": "code",
   "execution_count": null,
   "metadata": {},
   "outputs": [],
   "source": []
  }
 ],
 "metadata": {
  "kernelspec": {
   "display_name": "Python 3",
   "language": "python",
   "name": "python3"
  },
  "language_info": {
   "codemirror_mode": {
    "name": "ipython",
    "version": 3
   },
   "file_extension": ".py",
   "mimetype": "text/x-python",
   "name": "python",
   "nbconvert_exporter": "python",
   "pygments_lexer": "ipython3",
   "version": "3.7.6"
  }
 },
 "nbformat": 4,
 "nbformat_minor": 4
}
